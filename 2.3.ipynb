{
 "cells": [
  {
   "cell_type": "code",
   "execution_count": 1,
   "id": "81614e5e",
   "metadata": {},
   "outputs": [
    {
     "name": "stdout",
     "output_type": "stream",
     "text": [
      "Введите: Ириска и кино\n",
      "и\n",
      "и\n",
      "и\n"
     ]
    }
   ],
   "source": [
    "\"\"\"\n",
    "Дано предложение. Напечатать все его буквы и\n",
    "\"\"\"\n",
    "\n",
    "string = str(input(\"Введите предложение: \"))\n",
    "for i in range(len(string)):\n",
    "    if(string[i] == 'и'):\n",
    "        print(string[i])"
   ]
  },
  {
   "cell_type": "code",
   "execution_count": 1,
   "id": "7b510b52",
   "metadata": {},
   "outputs": [
    {
     "name": "stdout",
     "output_type": "stream",
     "text": [
      "Введите предложение: Номер нулевой, нужно найти номер \n",
      "4\n"
     ]
    }
   ],
   "source": [
    "\"\"\"\n",
    "Дано предложение. Определить количество букв н, предшествующих первой запятой\n",
    "предложения. Рассмотреть два случая:\n",
    "известно, что запятые в предложении есть;\n",
    "запятых в предложении может не быть.\n",
    "\n",
    "\"\"\"\n",
    "\n",
    "string = str(input(\"Введите предложение: \"))\n",
    "start = string.find(',')\n",
    "\n",
    "if(string.count(',')!= 0):\n",
    "   print(string.count('н',start))\n",
    "else:\n",
    "    print(\"Запяых в предложении нет!\")"
   ]
  },
  {
   "cell_type": "code",
   "execution_count": 8,
   "id": "c517710c",
   "metadata": {},
   "outputs": [
    {
     "name": "stdout",
     "output_type": "stream",
     "text": [
      "Введите слово: Аарпп\n",
      "Аарп\n"
     ]
    }
   ],
   "source": [
    "\"\"\"\n",
    "Дано слово. Удалить из него все повторяющиеся буквы, оставив их первые вхождения, т. е.\n",
    "в слове должны остаться только различные буквы.\n",
    "\"\"\"\n",
    "\n",
    "word = input(\"Введите слово: \")\n",
    "print(\"\".join(sorted(set(word), key=word.index)))"
   ]
  },
  {
   "cell_type": "code",
   "execution_count": 19,
   "id": "7d14246f",
   "metadata": {},
   "outputs": [
    {
     "name": "stdout",
     "output_type": "stream",
     "text": [
      "Введите первое слово: процессор\n",
      "Введите второе слово: информация\n",
      "п е с с и н ф м а и я \n"
     ]
    }
   ],
   "source": [
    "\"\"\"\n",
    "Даны два слова. Напечатать только те буквы слов, которые есть лишь в одном из них (в том\n",
    "числе повторяющиеся). Например, если заданные слова процессор и информация, то\n",
    "ответом должно быть: п е с с и н ф м а и я.\n",
    "\n",
    "\"\"\"\n",
    "\n",
    "word1 = str(input(\"Введите первое слово: \"))\n",
    "word2 = str(input(\"Введите второе слово: \"))\n",
    "\n",
    "n=0\n",
    "x = word1 + word2\n",
    "new_x = ''\n",
    "\n",
    "for i in range(0,len(word1)):\n",
    "   for j in range(0,len(word2)):\n",
    "      if(word1[i]==word2[j]):\n",
    "         n+=1\n",
    "   if(n==0):\n",
    "      new_x += word1[i] + ' ' \n",
    "   n=0\n",
    "\n",
    "for i in range(0,len(word2)):\n",
    "   for j in range(0,len(word1)):\n",
    "      if(word2[i]==word1[j]):\n",
    "         n+=1   \n",
    "   if(n==0):\n",
    "      new_x += word2[i] + ' '\n",
    "   n=0\n",
    "\n",
    "print(new_x) "
   ]
  },
  {
   "cell_type": "code",
   "execution_count": null,
   "id": "90810f53",
   "metadata": {},
   "outputs": [],
   "source": []
  },
  {
   "cell_type": "code",
   "execution_count": null,
   "id": "0e567cc8",
   "metadata": {},
   "outputs": [],
   "source": []
  }
 ],
 "metadata": {
  "kernelspec": {
   "display_name": "Python 3 (ipykernel)",
   "language": "python",
   "name": "python3"
  },
  "language_info": {
   "codemirror_mode": {
    "name": "ipython",
    "version": 3
   },
   "file_extension": ".py",
   "mimetype": "text/x-python",
   "name": "python",
   "nbconvert_exporter": "python",
   "pygments_lexer": "ipython3",
   "version": "3.9.7"
  }
 },
 "nbformat": 4,
 "nbformat_minor": 5
}
